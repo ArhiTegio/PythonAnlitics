{
 "cells": [
  {
   "cell_type": "code",
   "execution_count": 59,
   "id": "83ad4e05",
   "metadata": {},
   "outputs": [],
   "source": [
    "import numpy as np\n",
    "import pandas as pd\n",
    "\n",
    "import matplotlib.pyplot as plt\n",
    "\n",
    "from enum import Enum\n",
    "from typing import Dict\n",
    "from numbers import Number"
   ]
  },
  {
   "cell_type": "markdown",
   "id": "01cb4636",
   "metadata": {},
   "source": [
    "# Урок 1"
   ]
  },
  {
   "cell_type": "markdown",
   "id": "87cf647f",
   "metadata": {},
   "source": [
    "## Задача 1"
   ]
  },
  {
   "cell_type": "markdown",
   "id": "bc30785b",
   "metadata": {},
   "source": [
    "На складе лежат разные фрукты в разном количестве.\n",
    "\n",
    "Нужно написать функцию, которая на вход принимает любое количество названий фруктов и их количество, а возвращает общее количество фруктов на складе"
   ]
  },
  {
   "cell_type": "code",
   "execution_count": 20,
   "id": "6ea6a613",
   "metadata": {},
   "outputs": [],
   "source": [
    "class Fruit(Enum):\n",
    "    Apple = \"Яблоко\"\n",
    "    Pear = \"Груша\"\n",
    "    Apricot = \"Абрикос\"\n",
    "    Plum = \"Слива\"\n",
    "    Grape = \"Виноград\""
   ]
  },
  {
   "cell_type": "code",
   "execution_count": 22,
   "id": "aea3a78d",
   "metadata": {},
   "outputs": [],
   "source": [
    "storage  = {Fruit.Apple:1, Fruit.Pear:2, Fruit.Apricot:3, Fruit.Plum:4, Fruit.Grape:5}"
   ]
  },
  {
   "cell_type": "code",
   "execution_count": 25,
   "id": "34187465",
   "metadata": {},
   "outputs": [],
   "source": [
    "def SumFruit(storage: Dict[Fruit, Number]) -> Number:\n",
    "    return np.sum([v for k,v in storage.items()])"
   ]
  },
  {
   "cell_type": "code",
   "execution_count": 26,
   "id": "00c7e925",
   "metadata": {},
   "outputs": [
    {
     "data": {
      "text/plain": [
       "15"
      ]
     },
     "execution_count": 26,
     "metadata": {},
     "output_type": "execute_result"
    }
   ],
   "source": [
    "SumFruit(storage)"
   ]
  },
  {
   "cell_type": "markdown",
   "id": "b6e5647d",
   "metadata": {},
   "source": [
    "## Задача 2"
   ]
  },
  {
   "cell_type": "markdown",
   "id": "66c96bb6",
   "metadata": {},
   "source": [
    "Дан список с затратами на рекламу. Но в данных есть ошибки, некоторые затраты имеют отрицательную величину. Удалите такие значения из списка и посчитайте суммарные затраты\n",
    "\n",
    "[100, 125, -90, 345, 655, -1, 0, 200]"
   ]
  },
  {
   "cell_type": "code",
   "execution_count": 32,
   "id": "8028f9e4",
   "metadata": {},
   "outputs": [],
   "source": [
    "advertising_costs = np.array([100, 125, -90, 345, 655, -1, 0, 200])"
   ]
  },
  {
   "cell_type": "code",
   "execution_count": 35,
   "id": "4df50ae5",
   "metadata": {},
   "outputs": [],
   "source": [
    "def AdvertisingCostsSum(arr) -> Number:\n",
    "    return np.sum(advertising_costs[~(advertising_costs <= 0)])"
   ]
  },
  {
   "cell_type": "code",
   "execution_count": 36,
   "id": "08410ad9",
   "metadata": {},
   "outputs": [
    {
     "data": {
      "text/plain": [
       "1425"
      ]
     },
     "execution_count": 36,
     "metadata": {},
     "output_type": "execute_result"
    }
   ],
   "source": [
    "AdvertisingCostsSum(advertising_costs)"
   ]
  },
  {
   "cell_type": "markdown",
   "id": "188a6145",
   "metadata": {},
   "source": [
    "## Задача 3 - Используйте list comprehensions"
   ]
  },
  {
   "cell_type": "markdown",
   "id": "bd28804e",
   "metadata": {},
   "source": [
    "Даны два списка.\n",
    "\n",
    "Дата покупки\n",
    "\n",
    "['2021-09-14', '2021-12-15', '2021-09-08', '2021-12-05', '2021-10-09', '2021-09-30', '2021-12-22', '2021-11-29', '2021-12-24', '2021-11-26', '2021-10-27', '2021-12-18', '2021-11-09', '2021-11-23', '2021-09-27', '2021-10-02', '2021-12-27', '2021-09-20', '2021-12-13', '2021-11-01', '2021-11-09', '2021-12-06', '2021-12-08', '2021-10-09', '2021-10-31', '2021-09-30', '2021-11-09', '2021-12-13', '2021-10-26', '2021-12-09']\n",
    "\n",
    "Суммы покупок по датам\n",
    "\n",
    "[1270, 8413, 9028, 3703, 5739, 4095, 295, 4944, 5723, 3701, 4471, 651, 7037, 4274, 6275, 4988, 6930, 2971, 6592, 2004, 2822, 519, 3406, 2732, 5015, 2008, 316, 6333, 5700, 2887]"
   ]
  },
  {
   "cell_type": "code",
   "execution_count": 39,
   "id": "3bee960b",
   "metadata": {},
   "outputs": [],
   "source": [
    "dates = ['2021-09-14', '2021-12-15', '2021-09-08', '2021-12-05', '2021-10-09', '2021-09-30', '2021-12-22', '2021-11-29', '2021-12-24', '2021-11-26', '2021-10-27', '2021-12-18', '2021-11-09', '2021-11-23', '2021-09-27', '2021-10-02', '2021-12-27', '2021-09-20', '2021-12-13', '2021-11-01', '2021-11-09', '2021-12-06', '2021-12-08', '2021-10-09', '2021-10-31', '2021-09-30', '2021-11-09', '2021-12-13', '2021-10-26', '2021-12-09']"
   ]
  },
  {
   "cell_type": "code",
   "execution_count": 40,
   "id": "9da62b1e",
   "metadata": {},
   "outputs": [],
   "source": [
    "costs = [1270, 8413, 9028, 3703, 5739, 4095, 295, 4944, 5723, 3701, 4471, 651, 7037, 4274, 6275, 4988, 6930, 2971, 6592, 2004, 2822, 519, 3406, 2732, 5015, 2008, 316, 6333, 5700, 2887]"
   ]
  },
  {
   "cell_type": "markdown",
   "id": "29c94f10",
   "metadata": {},
   "source": [
    "## Задача 3.1"
   ]
  },
  {
   "cell_type": "markdown",
   "id": "74b39f76",
   "metadata": {},
   "source": [
    "Найдите, какая выручка у компании в ноябре"
   ]
  },
  {
   "cell_type": "code",
   "execution_count": 41,
   "id": "065ea18c",
   "metadata": {},
   "outputs": [
    {
     "data": {
      "text/plain": [
       "((30,), (30,))"
      ]
     },
     "execution_count": 41,
     "metadata": {},
     "output_type": "execute_result"
    }
   ],
   "source": [
    "np.shape(dates), np.shape(costs)"
   ]
  },
  {
   "cell_type": "code",
   "execution_count": null,
   "id": "37b4e323",
   "metadata": {},
   "outputs": [],
   "source": []
  },
  {
   "cell_type": "code",
   "execution_count": 49,
   "id": "13262414",
   "metadata": {},
   "outputs": [],
   "source": [
    "def SumByMonth(dates: List[Number], costs: List[str], month:int):\n",
    "    return np.sum([a[1] for a in zip(dates, costs) if a[0].split('-')[1] == str(month)])"
   ]
  },
  {
   "cell_type": "code",
   "execution_count": 50,
   "id": "3a64dcf2",
   "metadata": {},
   "outputs": [
    {
     "data": {
      "text/plain": [
       "25098"
      ]
     },
     "execution_count": 50,
     "metadata": {},
     "output_type": "execute_result"
    }
   ],
   "source": [
    "SumByMonth(dates, costs, 11)"
   ]
  },
  {
   "cell_type": "markdown",
   "id": "b2746a9d",
   "metadata": {},
   "source": [
    "## Задача 3.2"
   ]
  },
  {
   "cell_type": "markdown",
   "id": "3881b92d",
   "metadata": {},
   "source": [
    "Найдите выручку компании в зависимости от месяца\n",
    "\n",
    "Для этого напишите функцию, которая на вход принимает список с датами и список с выручкой, а на выходе словарь, где ключи - это месяцы, а значения - это выручка.\n",
    "Используйте аннотирование типов."
   ]
  },
  {
   "cell_type": "code",
   "execution_count": 57,
   "id": "70f50911",
   "metadata": {},
   "outputs": [],
   "source": [
    "def RevenueByMonth(dates: List[Number], costs: List[str]) -> Dict[int, Number]:\n",
    "    dic = {}\n",
    "    for idx in range(min(len(dates), len(costs))):\n",
    "        month = int(dates[idx].split('-')[1])\n",
    "        if month in dic.keys():\n",
    "            dic[month] += costs[idx]\n",
    "        else:\n",
    "            dic[month] = costs[idx]\n",
    "    return dic"
   ]
  },
  {
   "cell_type": "code",
   "execution_count": 62,
   "id": "eaf425d9",
   "metadata": {},
   "outputs": [
    {
     "data": {
      "text/plain": [
       "{9: 25647, 12: 45452, 10: 28645, 11: 25098}"
      ]
     },
     "execution_count": 62,
     "metadata": {},
     "output_type": "execute_result"
    }
   ],
   "source": [
    "revenue = RevenueByMonth(dates, costs)\n",
    "revenue"
   ]
  },
  {
   "cell_type": "code",
   "execution_count": 71,
   "id": "7864f5a8",
   "metadata": {},
   "outputs": [
    {
     "data": {
      "image/png": "[encoded data removed]",
      "text/plain": [
       "<Figure size 640x480 with 1 Axes>"
      ]
     },
     "metadata": {},
     "output_type": "display_data"
    }
   ],
   "source": [
    "lst = [[k,v] for k,v in revenue.items()]\n",
    "lst = sorted(lst, key=lambda x: x[0])\n",
    "\n",
    "plt.plot([e[0] for e in lst], [e[1] for e in lst])\n",
    "plt.show()"
   ]
  },
  {
   "cell_type": "code",
   "execution_count": 69,
   "id": "1cc4792d",
   "metadata": {},
   "outputs": [
    {
     "data": {
      "text/plain": [
       "[[9, 25647], [10, 28645], [11, 25098], [12, 45452]]"
      ]
     },
     "execution_count": 69,
     "metadata": {},
     "output_type": "execute_result"
    }
   ],
   "source": [
    "lst"
   ]
  },
  {
   "cell_type": "code",
   "execution_count": null,
   "id": "586e4aca",
   "metadata": {},
   "outputs": [],
   "source": []
  }
 ],
 "metadata": {
  "kernelspec": {
   "display_name": "Python 3 (ipykernel)",
   "language": "python",
   "name": "python3"
  },
  "language_info": {
   "codemirror_mode": {
    "name": "ipython",
    "version": 3
   },
   "file_extension": ".py",
   "mimetype": "text/x-python",
   "name": "python",
   "nbconvert_exporter": "python",
   "pygments_lexer": "ipython3",
   "version": "3.8.13"
  }
 },
 "nbformat": 4,
 "nbformat_minor": 5
}
